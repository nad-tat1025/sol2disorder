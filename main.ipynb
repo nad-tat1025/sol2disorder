{
 "cells": [
  {
   "cell_type": "code",
   "execution_count": null,
   "id": "c8b5a081",
   "metadata": {},
   "outputs": [],
   "source": [
    "import yaml\n",
    "import logging\n",
    "import sys\n",
    "\n",
    "logging.basicConfig(\n",
    "    level=logging.INFO,\n",
    "    format=\"%(asctime)s [%(levelname)s] %(message)s\",\n",
    "    handlers=[logging.StreamHandler(sys.stdout)],\n",
    "    force=True  # Jupyterで再実行するために必要\n",
    ")\n",
    "\n",
    "from src.workflow import run_workflow"
   ]
  },
  {
   "cell_type": "code",
   "execution_count": null,
   "id": "60ef0c2b",
   "metadata": {},
   "outputs": [],
   "source": [
    "# 1. 使用する設定ファイルを指定\n",
    "config_path = './configs/Bi_PBE_spinless.yaml'\n",
    "\n",
    "# 2. 設定ファイルを読み込む\n",
    "with open(config_path, 'r', encoding='utf-8') as f:\n",
    "    config = yaml.safe_load(f)\n",
    "\n",
    "# 3. ワークフローを実行\n",
    "run_workflow(config)"
   ]
  }
 ],
 "metadata": {
  "kernelspec": {
   "display_name": "base",
   "language": "python",
   "name": "python3"
  },
  "language_info": {
   "codemirror_mode": {
    "name": "ipython",
    "version": 3
   },
   "file_extension": ".py",
   "mimetype": "text/x-python",
   "name": "python",
   "nbconvert_exporter": "python",
   "pygments_lexer": "ipython3",
   "version": "3.12.3"
  }
 },
 "nbformat": 4,
 "nbformat_minor": 5
}
